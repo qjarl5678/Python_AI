{
 "cells": [
  {
   "cell_type": "code",
   "execution_count": 2,
   "id": "29689177",
   "metadata": {},
   "outputs": [
    {
     "name": "stdout",
     "output_type": "stream",
     "text": [
      "농어의 무게:  [5.9, 32.0, 40.0, 51.5, 70.0, 100.0, 78.0, 80.0, 85.0, 85.0, 110.0, 115.0, 125.0, 130.0, 120.0, 120.0, 130.0, 135.0, 110.0, 130.0, 150.0, 145.0, 150.0, 170.0, 225.0, 145.0, 188.0, 180.0, 197.0, 218.0, 300.0, 260.0, 265.0, 250.0, 250.0, 300.0, 320.0, 514.0, 556.0, 840.0, 685.0, 700.0, 700.0, 690.0, 900.0, 650.0, 820.0, 850.0, 900.0, 1015.0, 820.0, 1100.0, 1000.0, 1100.0, 1000.0, 1000.0]\n",
      "농어의 길이:  [8.4, 13.7, 15.0, 16.2, 17.4, 18.0, 18.7, 19.0, 19.6, 20.0, 21.0, 21.0, 21.0, 21.3, 22.0, 22.0, 22.0, 22.0, 22.0, 22.5, 22.5, 22.7, 23.0, 23.5, 24.0, 24.0, 24.6, 25.0, 25.6, 26.5, 27.3, 27.5, 27.5, 27.5, 28.0, 28.7, 30.0, 32.8, 34.5, 35.0, 36.5, 36.0, 37.0, 37.0, 39.0, 39.0, 39.0, 40.0, 40.0, 40.0, 40.0, 42.0, 43.0, 43.0, 43.5, 44.0]\n",
      "<class 'list'>\n"
     ]
    }
   ],
   "source": [
    "import csv\n",
    "\n",
    "f= open('Fish.csv', 'r')\n",
    "data = csv.reader(f)\n",
    "\n",
    "header = next(data)\n",
    "\n",
    "perch_weight = [] #농어의 무게\n",
    "perch_length = [] #농어의 길이\n",
    "\n",
    "for row in data:\n",
    "    if row[0] == 'Perch':\n",
    "        perch_weight.append(float(row[1]))\n",
    "        perch_length.append(float(row[3]))\n",
    "\n",
    "f.close()\n",
    "print('농어의 무게: ', perch_weight) #타켓\n",
    "print('농어의 길이: ', perch_length) #인풋\n",
    "\n",
    "print(type(perch_weight))"
   ]
  },
  {
   "cell_type": "code",
   "execution_count": 4,
   "id": "c6fa51fc",
   "metadata": {},
   "outputs": [
    {
     "name": "stdout",
     "output_type": "stream",
     "text": [
      "weight = [   5.9   32.    40.    51.5   70.   100.    78.    80.    85.    85.\n",
      "  110.   115.   125.   130.   120.   120.   130.   135.   110.   130.\n",
      "  150.   145.   150.   170.   225.   145.   188.   180.   197.   218.\n",
      "  300.   260.   265.   250.   250.   300.   320.   514.   556.   840.\n",
      "  685.   700.   700.   690.   900.   650.   820.   850.   900.  1015.\n",
      "  820.  1100.  1000.  1100.  1000.  1000. ]\n",
      "length = [ 8.4 13.7 15.  16.2 17.4 18.  18.7 19.  19.6 20.  21.  21.  21.  21.3\n",
      " 22.  22.  22.  22.  22.  22.5 22.5 22.7 23.  23.5 24.  24.  24.6 25.\n",
      " 25.6 26.5 27.3 27.5 27.5 27.5 28.  28.7 30.  32.8 34.5 35.  36.5 36.\n",
      " 37.  37.  39.  39.  39.  40.  40.  40.  40.  42.  43.  43.  43.5 44. ]\n"
     ]
    }
   ],
   "source": [
    "import numpy as np\n",
    "weight = np.array(perch_weight)\n",
    "length = np.array(perch_length)\n",
    "\n",
    "print('weight =', weight)\n",
    "print('length =', length)"
   ]
  },
  {
   "cell_type": "code",
   "execution_count": 10,
   "id": "a60d8b9b",
   "metadata": {},
   "outputs": [
    {
     "data": {
      "image/png": "[encoded data removed]",
      "text/plain": [
       "<Figure size 432x288 with 1 Axes>"
      ]
     },
     "metadata": {
      "needs_background": "light"
     },
     "output_type": "display_data"
    }
   ],
   "source": [
    "import matplotlib.pyplot as plt\n",
    "plt.scatter(length,weight)\n",
    "plt.xlabel('Length [cm]')\n",
    "plt.ylabel('Weight [g]')\n",
    "plt.grid(True)\n",
    "plt.show()"
   ]
  },
  {
   "cell_type": "code",
   "execution_count": 13,
   "id": "00c042de",
   "metadata": {},
   "outputs": [
    {
     "name": "stdout",
     "output_type": "stream",
     "text": [
      "train_input:  (42,)\n",
      "test_input:  (14,)\n"
     ]
    }
   ],
   "source": [
    "from sklearn.model_selection import train_test_split\n",
    "\n",
    "train_input, test_input, train_target, test_target = train_test_split(length, weight, random_state=42)\n",
    "\n",
    "print(\"train_input: \", train_input.shape)\n",
    "print(\"test_input: \", test_input.shape)\n",
    "\n",
    "#42 : 14 / 3:1 로 섞임\n"
   ]
  },
  {
   "cell_type": "code",
   "execution_count": 20,
   "id": "0fb6f07d",
   "metadata": {},
   "outputs": [
    {
     "name": "stdout",
     "output_type": "stream",
     "text": [
      "[1 2 3 4]\n",
      "(4,)\n",
      "[[1]\n",
      " [2]\n",
      " [3]\n",
      " [4]]\n",
      "(4, 1)\n"
     ]
    }
   ],
   "source": [
    "test_array = np.array([1,2,3,4])\n",
    "print(test_array)\n",
    "print(test_array.shape)\n",
    "\n",
    "test_array = test_array.reshape(4,1)\n",
    "\n",
    "print(test_array)\n",
    "print(test_array.shape)"
   ]
  },
  {
   "cell_type": "code",
   "execution_count": 24,
   "id": "2e89edad",
   "metadata": {},
   "outputs": [
    {
     "name": "stdout",
     "output_type": "stream",
     "text": [
      "(42, 1) (14, 1)\n"
     ]
    }
   ],
   "source": [
    "train_input = train_input.reshape(-1, 1)\n",
    "test_input = test_input.reshape(-1, 1)\n",
    "\n",
    "print(train_input.shape, test_input.shape)\n",
    "\n",
    "# print(train_input)"
   ]
  },
  {
   "cell_type": "code",
   "execution_count": 26,
   "id": "c37cea8b",
   "metadata": {},
   "outputs": [
    {
     "data": {
      "text/plain": [
       "KNeighborsRegressor()"
      ]
     },
     "execution_count": 26,
     "metadata": {},
     "output_type": "execute_result"
    }
   ],
   "source": [
    "from sklearn.neighbors import KNeighborsRegressor\n",
    "\n",
    "knr = KNeighborsRegressor()\n",
    "knr.fit(train_input, train_target) # 길이, 무게/ 학습 데이터셋을 이용해서 학습시킴"
   ]
  },
  {
   "cell_type": "code",
   "execution_count": 27,
   "id": "7e90f68b",
   "metadata": {},
   "outputs": [
    {
     "data": {
      "text/plain": [
       "0.992809406101064"
      ]
     },
     "execution_count": 27,
     "metadata": {},
     "output_type": "execute_result"
    }
   ],
   "source": [
    "knr.score(test_input, test_target)"
   ]
  },
  {
   "cell_type": "code",
   "execution_count": 32,
   "id": "21b28ede",
   "metadata": {},
   "outputs": [
    {
     "name": "stdout",
     "output_type": "stream",
     "text": [
      "[  60.    79.6  248.   122.   136.   847.   311.4  183.4  847.   113.\n",
      " 1010.    60.   248.   248. ]\n",
      "[   5.9  100.   250.   130.   130.   820.   320.   188.   900.   125.\n",
      " 1000.    51.5  250.   300. ]\n"
     ]
    }
   ],
   "source": [
    "#평균 절대값 오차 (MAE, Mean Absolute Error)\n",
    "from sklearn.metrics import mean_absolute_error\n",
    "\n",
    "test_prediction = knr.predict(test_input)\n",
    "print(test_prediction)\n",
    "print(test_target)"
   ]
  },
  {
   "cell_type": "code",
   "execution_count": 45,
   "id": "8b5dd621",
   "metadata": {},
   "outputs": [
    {
     "name": "stdout",
     "output_type": "stream",
     "text": [
      "19.157142857142862\n"
     ]
    }
   ],
   "source": [
    "mae = mean_absolute_error(test_target, test_prediction) # 실제값, 예측값 -> 평균절대값, 오차값 반환\n",
    "print(mae)  # k-NN 회귀 알고리즘이 평균 약 19g 정도 오차를 가지고 예측"
   ]
  },
  {
   "cell_type": "code",
   "execution_count": null,
   "id": "50369dde",
   "metadata": {},
   "outputs": [],
   "source": [
    "# overfitting / underfitting"
   ]
  },
  {
   "cell_type": "code",
   "execution_count": 39,
   "id": "090ebf1a",
   "metadata": {},
   "outputs": [
    {
     "name": "stdout",
     "output_type": "stream",
     "text": [
      "시험데이터셋의 결정계수:  0.992809406101064\n",
      "학습데이터셋의 결정계수:  0.9698823289099254\n"
     ]
    }
   ],
   "source": [
    "print('시험데이터셋의 결정계수: ', knr.score(test_input, test_target))\n",
    "print('학습데이터셋의 결정계수: ', knr.score(train_input, train_target))"
   ]
  },
  {
   "cell_type": "code",
   "execution_count": 40,
   "id": "30f8c01c",
   "metadata": {},
   "outputs": [
    {
     "name": "stdout",
     "output_type": "stream",
     "text": [
      "5\n"
     ]
    }
   ],
   "source": [
    "print(knr.n_neighbors)"
   ]
  },
  {
   "cell_type": "code",
   "execution_count": 42,
   "id": "02283a24",
   "metadata": {},
   "outputs": [
    {
     "name": "stdout",
     "output_type": "stream",
     "text": [
      "시험데이터셋의 결정계수:  0.9746459963987609\n",
      "학습데이터셋의 결정계수:  0.9804899950518966\n"
     ]
    }
   ],
   "source": [
    "knr.n_neighbors = 3\n",
    "\n",
    "knr.fit(train_input, train_target)\n",
    "print('시험데이터셋의 결정계수: ', knr.score(test_input, test_target))\n",
    "print('학습데이터셋의 결정계수: ', knr.score(train_input, train_target))"
   ]
  },
  {
   "cell_type": "code",
   "execution_count": null,
   "id": "6b4604ad",
   "metadata": {},
   "outputs": [],
   "source": []
  },
  {
   "cell_type": "code",
   "execution_count": null,
   "id": "6c9b5936",
   "metadata": {},
   "outputs": [],
   "source": []
  },
  {
   "cell_type": "code",
   "execution_count": null,
   "id": "1959b3b0",
   "metadata": {},
   "outputs": [],
   "source": []
  },
  {
   "cell_type": "code",
   "execution_count": null,
   "id": "6a412e34",
   "metadata": {},
   "outputs": [],
   "source": []
  },
  {
   "cell_type": "code",
   "execution_count": null,
   "id": "7a46aee6",
   "metadata": {},
   "outputs": [],
   "source": []
  },
  {
   "cell_type": "code",
   "execution_count": null,
   "id": "d30743eb",
   "metadata": {},
   "outputs": [],
   "source": []
  }
 ],
 "metadata": {
  "kernelspec": {
   "display_name": "Python 3 (ipykernel)",
   "language": "python",
   "name": "python3"
  },
  "language_info": {
   "codemirror_mode": {
    "name": "ipython",
    "version": 3
   },
   "file_extension": ".py",
   "mimetype": "text/x-python",
   "name": "python",
   "nbconvert_exporter": "python",
   "pygments_lexer": "ipython3",
   "version": "3.9.7"
  }
 },
 "nbformat": 4,
 "nbformat_minor": 5
}
