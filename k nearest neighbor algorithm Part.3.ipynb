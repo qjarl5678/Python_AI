{
 "cells": [
  {
   "cell_type": "code",
   "execution_count": 70,
   "id": "367520f0",
   "metadata": {},
   "outputs": [
    {
     "name": "stdout",
     "output_type": "stream",
     "text": [
      "fish_data:  [[  25.4  242. ]\n",
      " [  26.3  290. ]\n",
      " [  26.5  340. ]\n",
      " [  29.   363. ]\n",
      " [  29.   430. ]\n",
      " [  29.7  450. ]\n",
      " [  29.7  500. ]\n",
      " [  30.   390. ]\n",
      " [  30.   450. ]\n",
      " [  30.7  500. ]\n",
      " [  31.   475. ]\n",
      " [  31.   500. ]\n",
      " [  31.5  500. ]\n",
      " [  32.   340. ]\n",
      " [  32.   600. ]\n",
      " [  32.   600. ]\n",
      " [  33.   700. ]\n",
      " [  33.   700. ]\n",
      " [  33.5  610. ]\n",
      " [  33.5  650. ]\n",
      " [  34.   575. ]\n",
      " [  34.   685. ]\n",
      " [  34.5  620. ]\n",
      " [  35.   680. ]\n",
      " [  35.   700. ]\n",
      " [  35.   725. ]\n",
      " [  35.   720. ]\n",
      " [  36.   714. ]\n",
      " [  36.   850. ]\n",
      " [  37.  1000. ]\n",
      " [  38.5  920. ]\n",
      " [  38.5  955. ]\n",
      " [  39.5  925. ]\n",
      " [  41.   975. ]\n",
      " [  41.   950. ]\n",
      " [   9.8    6.7]\n",
      " [  10.5    7.5]\n",
      " [  10.6    7. ]\n",
      " [  11.     9.7]\n",
      " [  11.2    9.8]\n",
      " [  11.3    8.7]\n",
      " [  11.8   10. ]\n",
      " [  11.8    9.9]\n",
      " [  12.     9.8]\n",
      " [  12.2   12.2]\n",
      " [  12.4   13.4]\n",
      " [  13.    12.2]\n",
      " [  14.3   19.7]\n",
      " [  15.    19.9]]\n",
      "fish_target: [1. 1. 1. 1. 1. 1. 1. 1. 1. 1. 1. 1. 1. 1. 1. 1. 1. 1. 1. 1. 1. 1. 1. 1.\n",
      " 1. 1. 1. 1. 1. 1. 1. 1. 1. 1. 1. 0. 0. 0. 0. 0. 0. 0. 0. 0. 0. 0. 0. 0.\n",
      " 0.]\n"
     ]
    }
   ],
   "source": [
    "import csv\n",
    "f= open('Fish.csv', 'r')\n",
    "data = csv.reader(f)\n",
    "\n",
    "header = next(data)\n",
    "\n",
    "bream_weight = [] #도미 무게\n",
    "bream_length = [] #도미 길이\n",
    "smelt_weight = [] #빙어 무게\n",
    "smelt_length = [] #도미 길이\n",
    "\n",
    "for row in data:\n",
    "    if row[0] == \"Bream\":\n",
    "        bream_weight.append(float(row[1]))\n",
    "        bream_length.append(float(row[3]))\n",
    "    if row[0] == \"Smelt\":\n",
    "        smelt_weight.append(float(row[1]))\n",
    "        smelt_length.append(float(row[3]))\n",
    "        \n",
    "f.close()\n",
    "\n",
    "fish_length = bream_length + smelt_length\n",
    "fish_weight = bream_weight + smelt_weight\n",
    "\n",
    "import numpy as np\n",
    "#fish_data = [[l,w] for l,w in zip(fish_length, fish_weight)]\n",
    "\n",
    "fish_data = np.column_stack((fish_length, fish_weight))\n",
    "fish_target = np.concatenate((np.ones(35), np.zeros(14)))\n",
    "\n",
    "print('fish_data: ',fish_data)\n",
    "print('fish_target:', fish_target)"
   ]
  },
  {
   "cell_type": "code",
   "execution_count": 71,
   "id": "2f64fc2a",
   "metadata": {},
   "outputs": [],
   "source": [
    "from sklearn.model_selection import train_test_split\n",
    "\n",
    "train_input, test_input, train_target, test_target = train_test_split(fish_data, fish_target, random_state=42)\n"
   ]
  },
  {
   "cell_type": "code",
   "execution_count": 72,
   "id": "2e718b44",
   "metadata": {},
   "outputs": [],
   "source": [
    "from sklearn.neighbors import KNeighborsClassifier\n",
    "\n",
    "kn = KNeighborsClassifier()"
   ]
  },
  {
   "cell_type": "code",
   "execution_count": 73,
   "id": "726f8e69",
   "metadata": {},
   "outputs": [
    {
     "data": {
      "text/plain": [
       "1.0"
      ]
     },
     "execution_count": 73,
     "metadata": {},
     "output_type": "execute_result"
    }
   ],
   "source": [
    "kn.fit( train_input, train_target )\n",
    "kn.score(test_input, test_target)"
   ]
  },
  {
   "cell_type": "code",
   "execution_count": 76,
   "id": "02dd6e69",
   "metadata": {},
   "outputs": [
    {
     "name": "stdout",
     "output_type": "stream",
     "text": [
      "[0.]\n",
      "(49, 2)\n",
      "(49,)\n"
     ]
    }
   ],
   "source": [
    "print(kn.predict([[25,150]]))\n",
    "\n",
    "input_arr = np.array(fish_data)\n",
    "target_arr = np.array(fish_target)\n",
    "\n",
    "print(input_arr.shape)\n",
    "print(target_arr.shape)"
   ]
  },
  {
   "cell_type": "code",
   "execution_count": 36,
   "id": "25df2447",
   "metadata": {},
   "outputs": [],
   "source": [
    "np.random.seed(42)\n",
    "\n",
    "index = np.arange(0,49)\n",
    "\n",
    "np.random.shuffle(index)"
   ]
  },
  {
   "cell_type": "code",
   "execution_count": 49,
   "id": "9be226e3",
   "metadata": {
    "scrolled": true
   },
   "outputs": [
    {
     "name": "stdout",
     "output_type": "stream",
     "text": [
      "[[  32.   340. ]\n",
      " [  12.4   13.4]\n",
      " [  14.3   19.7]\n",
      " [  12.2   12.2]\n",
      " [  33.   700. ]\n",
      " [  36.   714. ]\n",
      " [  35.   720. ]\n",
      " [  35.   725. ]\n",
      " [  38.5  955. ]\n",
      " [  33.5  650. ]\n",
      " [  31.5  500. ]\n",
      " [  29.   430. ]\n",
      " [  41.   950. ]\n",
      " [  30.   450. ]\n",
      " [  29.   363. ]\n",
      " [  29.7  500. ]\n",
      " [  11.3    8.7]\n",
      " [  11.8   10. ]\n",
      " [  13.    12.2]\n",
      " [  32.   600. ]\n",
      " [  30.7  500. ]\n",
      " [  33.   700. ]\n",
      " [  35.   700. ]\n",
      " [  41.   975. ]\n",
      " [  38.5  920. ]\n",
      " [  25.4  242. ]\n",
      " [  12.     9.8]\n",
      " [  39.5  925. ]\n",
      " [  29.7  450. ]\n",
      " [  37.  1000. ]\n",
      " [  31.   500. ]\n",
      " [  10.5    7.5]\n",
      " [  26.3  290. ]\n",
      " [  34.   685. ]\n",
      " [  26.5  340. ]]\n",
      "[ 32. 340.]\n"
     ]
    }
   ],
   "source": [
    "train_input = input_arr[index[:35]]\n",
    "train_target = target_arr[index[:35]]\n",
    "\n",
    "test_input = input_arr[index[35:]]\n",
    "test_target = target_arr[index[35:]]\n",
    "\n",
    "\n",
    "print(train_input)\n",
    "print(input_arr[13])"
   ]
  },
  {
   "cell_type": "code",
   "execution_count": 86,
   "id": "5c6887bf",
   "metadata": {},
   "outputs": [
    {
     "data": {
      "image/png": "[encoded data removed]",
      "text/plain": [
       "<Figure size 432x288 with 1 Axes>"
      ]
     },
     "metadata": {
      "needs_background": "light"
     },
     "output_type": "display_data"
    }
   ],
   "source": [
    "import matplotlib.pyplot as plt\n",
    "\n",
    "plt.scatter(train_input[:,0], train_input[:,1], label='train dataset', c='r')\n",
    "plt.scatter(test_input[:,0], test_input[:,1], label = 'test dataset',c='b', marker='^')\n",
    "plt.scatter(25,150, label = 'predict',c='g', marker='s')\n",
    "plt.grid(True)\n",
    "plt.ylabel('Weight [g] ')\n",
    "plt.xlabel('Length [cm] ')\n",
    "plt.legend()\n",
    "plt.show()"
   ]
  },
  {
   "cell_type": "code",
   "execution_count": 89,
   "id": "9a106a55",
   "metadata": {},
   "outputs": [
    {
     "name": "stdout",
     "output_type": "stream",
     "text": [
      "[[ 92.00086956 130.48375378 138.32150953 140.00603558 140.62090883]]\n",
      "[[12 29  5 19  4]]\n"
     ]
    },
    {
     "data": {
      "image/png": "[encoded data removed]",
      "text/plain": [
       "<Figure size 432x288 with 1 Axes>"
      ]
     },
     "metadata": {
      "needs_background": "light"
     },
     "output_type": "display_data"
    }
   ],
   "source": [
    "distances, indexes = kn.kneighbors([[25,150]])\n",
    "\n",
    "print(distances)\n",
    "print(indexes)\n",
    "\n",
    "plt.scatter(train_input[:,0], train_input[:,1], label='train dataset', c='b')\n",
    "plt.scatter(25,150, label = 'predict',c='gold', marker='^')\n",
    "plt.scatter(train_input[indexes,0], train_input[indexes,1] ,label='k', c='g', marker='d')\n",
    "plt.grid(True)\n",
    "plt.ylabel('Weight [g] ')\n",
    "plt.xlabel('Length [cm] ')\n",
    "plt.legend()\n",
    "plt.show()"
   ]
  },
  {
   "cell_type": "code",
   "execution_count": 98,
   "id": "440ae2e9",
   "metadata": {},
   "outputs": [],
   "source": [
    "#데이터전처리\n",
    "kn.predict([[25,150]])\n",
    "#아직 빙어로 판별하는중\n",
    "\n",
    "mean = np.mean(train_input, axis = 0)\n",
    "std = np.std(train_input, axis = 0)\n",
    "\n",
    "train_scaled = (train_input - mean) / std \n",
    "test_scaled = (test_input - mean) / std\n",
    "# print(train_scaled)\n",
    "#sample 데이터도 바꿔줌\n",
    "\n",
    "sample = ([25,150] - mean) / std"
   ]
  },
  {
   "cell_type": "code",
   "execution_count": 99,
   "id": "747190cf",
   "metadata": {},
   "outputs": [
    {
     "data": {
      "image/png": "[encoded data removed]",
      "text/plain": [
       "<Figure size 432x288 with 1 Axes>"
      ]
     },
     "metadata": {
      "needs_background": "light"
     },
     "output_type": "display_data"
    }
   ],
   "source": [
    "plt.scatter(train_scaled[:,0], train_scaled[:,1])\n",
    "plt.scatter(sample[0], sample[1], marker='^')\n",
    "plt.xlabel('length')\n",
    "plt.ylabel('weight')\n",
    "plt.show()"
   ]
  },
  {
   "cell_type": "code",
   "execution_count": 100,
   "id": "38c9e37b",
   "metadata": {},
   "outputs": [
    {
     "data": {
      "text/plain": [
       "1.0"
      ]
     },
     "execution_count": 100,
     "metadata": {},
     "output_type": "execute_result"
    }
   ],
   "source": [
    "#샘플링 편향 문제 해결\n",
    "\n",
    "kn.fit(train_scaled, train_target)\n",
    "kn.predict([sample])\n",
    "kn.score(test_scaled, test_target)"
   ]
  }
 ],
 "metadata": {
  "kernelspec": {
   "display_name": "Python 3 (ipykernel)",
   "language": "python",
   "name": "python3"
  },
  "language_info": {
   "codemirror_mode": {
    "name": "ipython",
    "version": 3
   },
   "file_extension": ".py",
   "mimetype": "text/x-python",
   "name": "python",
   "nbconvert_exporter": "python",
   "pygments_lexer": "ipython3",
   "version": "3.9.7"
  }
 },
 "nbformat": 4,
 "nbformat_minor": 5
}
