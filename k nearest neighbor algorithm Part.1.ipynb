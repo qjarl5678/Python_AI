{
 "cells": [
  {
   "cell_type": "code",
   "execution_count": 4,
   "id": "a1231a5c",
   "metadata": {
    "scrolled": true
   },
   "outputs": [],
   "source": [
    "import csv\n",
    "f = open('./Fish.csv', 'r')\n",
    "data = csv.reader(f)\n",
    "\n",
    "header = next(data)\n",
    "\n",
    "#도미\n",
    "bream_weight = []\n",
    "bream_length = []\n",
    "#빙어\n",
    "smelt_weight = []\n",
    "smelt_length = []\n",
    "\n",
    "for row in data:\n",
    "    if row[0] == \"Bream\":\n",
    "        bream_weight.append(float(row[1]))\n",
    "        bream_length.append(float(row[3]))\n",
    "        \n",
    "    if row[0] == \"Smelt\":\n",
    "        smelt_weight.append(float(row[1]))\n",
    "        smelt_length.append(float(row[3]))\n",
    "        \n",
    "f.close()\n",
    "\n",
    "fish_weight =  bream_weight + smelt_weight\n",
    "fish_length =  bream_length + smelt_length\n",
    "\n"
   ]
  },
  {
   "cell_type": "code",
   "execution_count": 18,
   "id": "d7a9b5e8",
   "metadata": {},
   "outputs": [
    {
     "name": "stdout",
     "output_type": "stream",
     "text": [
      "[1, 1, 1, 1, 1, 1, 1, 1, 1, 1, 1, 1, 1, 1, 1, 1, 1, 1, 1, 1, 1, 1, 1, 1, 1, 1, 1, 1, 1, 1, 1, 1, 1, 1, 1, 0, 0, 0, 0, 0, 0, 0, 0, 0, 0, 0, 0, 0, 0]\n"
     ]
    }
   ],
   "source": [
    "fish_data = [[l,w] for l, w in zip( fish_length, fish_weight)] #입력데이터 준비\n",
    "#도미: 1, 빙어 : 0\n",
    "\n",
    "fish_target = [1] * 35 + [0] * 14 #label 준비\n",
    "\n",
    "print(fish_target)"
   ]
  },
  {
   "cell_type": "code",
   "execution_count": 19,
   "id": "0e4e29f7",
   "metadata": {},
   "outputs": [],
   "source": [
    "#학습 데이터셋\n",
    "train_input  = fish_data[0:35] #슬라이싱\n",
    "train_target = fish_target[0:35]\n",
    "\n",
    "#시험 데이터셋\n",
    "test_input = fish_data[35:] #35부터 마지막 인덱스 까지\n",
    "test_target = fish_target[35:]"
   ]
  },
  {
   "cell_type": "code",
   "execution_count": 20,
   "id": "cbc14ac4",
   "metadata": {},
   "outputs": [],
   "source": [
    "from sklearn.neighbors import KNeighborsClassifier\n",
    "\n",
    "kn = KNeighborsClassifier()"
   ]
  },
  {
   "cell_type": "code",
   "execution_count": 21,
   "id": "084ace91",
   "metadata": {},
   "outputs": [
    {
     "data": {
      "text/plain": [
       "KNeighborsClassifier()"
      ]
     },
     "execution_count": 21,
     "metadata": {},
     "output_type": "execute_result"
    }
   ],
   "source": [
    "kn.fit(train_input, train_target)  #모델을 학습 데이터에 피팅(Fitting) 시킨다."
   ]
  },
  {
   "cell_type": "code",
   "execution_count": 22,
   "id": "ba8efaee",
   "metadata": {},
   "outputs": [
    {
     "data": {
      "text/plain": [
       "0.0"
      ]
     },
     "execution_count": 22,
     "metadata": {},
     "output_type": "execute_result"
    }
   ],
   "source": [
    "kn.score(test_input, test_target)\n",
    "\n",
    "# 정확도 (Accuracy) = 맞춘 문제의 개수 / 전체 문제의 개수"
   ]
  },
  {
   "cell_type": "code",
   "execution_count": 25,
   "id": "16231a53",
   "metadata": {},
   "outputs": [
    {
     "name": "stdout",
     "output_type": "stream",
     "text": [
      "(49, 2)\n"
     ]
    }
   ],
   "source": [
    "import numpy as np\n",
    "\n",
    "input_arr = np.array(fish_data)     #49마리의 생선\n",
    "target_arr = np.array(fish_target) #n-dimensional array - > ndarray\n",
    "\n",
    "print(input_arr.shape) #모양 --> (샘플의 개수, 특성의 개수)\n",
    "\n",
    "# print(type(input_arr))"
   ]
  },
  {
   "cell_type": "code",
   "execution_count": 50,
   "id": "8de840ae",
   "metadata": {},
   "outputs": [
    {
     "name": "stdout",
     "output_type": "stream",
     "text": [
      "섞기 전:  [ 0  1  2  3  4  5  6  7  8  9 10 11 12 13 14 15 16 17 18 19 20 21 22 23\n",
      " 24 25 26 27 28 29 30 31 32 33 34 35 36 37 38 39 40 41 42 43 44 45 46 47\n",
      " 48]\n",
      "섞은 후:  [13 45 47 44 17 27 26 25 31 19 12  4 34  8  3  6 40 41 46 15  9 16 24 33\n",
      " 30  0 43 32  5 29 11 36  1 21  2 37 35 23 39 10 22 18 48 20  7 42 14 28\n",
      " 38]\n"
     ]
    }
   ],
   "source": [
    "#0~48(49마리의 생선)\n",
    "np.random.seed(42)\n",
    "index = np.arange(0, 49) #시작숫자, 마지막숫자 --> 처음부터 할 시 시작숫자는 생략가능\n",
    "print('섞기 전: ' , index)\n",
    "\n",
    "np.random.shuffle(index) # 전달되는 배열을 무작위로 섞는 함수\n",
    "print('섞은 후: ' , index)"
   ]
  },
  {
   "cell_type": "code",
   "execution_count": 51,
   "id": "7695b540",
   "metadata": {},
   "outputs": [
    {
     "name": "stdout",
     "output_type": "stream",
     "text": [
      "[ 32. 340.]\n",
      "[ 32. 340.]\n"
     ]
    }
   ],
   "source": [
    "#인덱스\n",
    "#슬라이싱 --> arr[0:5]\n",
    "#배열 인덱싱(Array Indexing)\n",
    "\n",
    "#학습 데이터셋의 샘플 개수 = 35\n",
    "train_input = input_arr[index[0:35]] # 0이상 35미만\n",
    "train_target = target_arr[index[0:35]]\n",
    "\n",
    "#시험 데이터셋의 샘플 개수 = 14\n",
    "test_input = input_arr[index[35:]]\n",
    "test_target = target_arr[index[35:]]\n",
    "\n",
    "print(train_input[0])\n",
    "print(input_arr[13])"
   ]
  },
  {
   "cell_type": "code",
   "execution_count": 60,
   "id": "2c996480",
   "metadata": {},
   "outputs": [
    {
     "data": {
      "image/png": "[encoded data removed]",
      "text/plain": [
       "<Figure size 432x288 with 1 Axes>"
      ]
     },
     "metadata": {
      "needs_background": "light"
     },
     "output_type": "display_data"
    }
   ],
   "source": [
    "# scatter plot(산점도)\n",
    "\n",
    "import matplotlib.pyplot as plt\n",
    "plt.scatter(train_input[:,0], train_input[:,1], label = 'training dataset', c='r', marker='^')\n",
    "plt.scatter(test_input[:,0], test_input[:,1], label = 'test dataset', c ='b' )\n",
    "plt.xlabel('Length[cm]')\n",
    "plt.ylabel('Weight[g]')\n",
    "plt.grid(True)\n",
    "plt.legend() # 전설, 범례\n",
    "plt.show()"
   ]
  },
  {
   "cell_type": "code",
   "execution_count": 62,
   "id": "c12c0c13",
   "metadata": {},
   "outputs": [
    {
     "data": {
      "text/plain": [
       "KNeighborsClassifier()"
      ]
     },
     "execution_count": 62,
     "metadata": {},
     "output_type": "execute_result"
    }
   ],
   "source": [
    "kn.fit(train_input, train_target)"
   ]
  },
  {
   "cell_type": "code",
   "execution_count": 63,
   "id": "0db471a2",
   "metadata": {},
   "outputs": [
    {
     "data": {
      "text/plain": [
       "1.0"
      ]
     },
     "execution_count": 63,
     "metadata": {},
     "output_type": "execute_result"
    }
   ],
   "source": [
    "kn.score(test_input, test_target)"
   ]
  },
  {
   "cell_type": "code",
   "execution_count": 64,
   "id": "245a22ce",
   "metadata": {},
   "outputs": [
    {
     "data": {
      "text/plain": [
       "array([0, 0, 1, 0, 1, 1, 1, 0, 1, 1, 0, 1, 1, 0])"
      ]
     },
     "execution_count": 64,
     "metadata": {},
     "output_type": "execute_result"
    }
   ],
   "source": [
    "kn.predict(test_input) #predict 예측하다"
   ]
  },
  {
   "cell_type": "code",
   "execution_count": 65,
   "id": "d7d6db26",
   "metadata": {},
   "outputs": [
    {
     "data": {
      "text/plain": [
       "array([0, 0, 1, 0, 1, 1, 1, 0, 1, 1, 0, 1, 1, 0])"
      ]
     },
     "execution_count": 65,
     "metadata": {},
     "output_type": "execute_result"
    }
   ],
   "source": [
    "test_target"
   ]
  }
 ],
 "metadata": {
  "kernelspec": {
   "display_name": "Python 3 (ipykernel)",
   "language": "python",
   "name": "python3"
  },
  "language_info": {
   "codemirror_mode": {
    "name": "ipython",
    "version": 3
   },
   "file_extension": ".py",
   "mimetype": "text/x-python",
   "name": "python",
   "nbconvert_exporter": "python",
   "pygments_lexer": "ipython3",
   "version": "3.9.7"
  }
 },
 "nbformat": 4,
 "nbformat_minor": 5
}
